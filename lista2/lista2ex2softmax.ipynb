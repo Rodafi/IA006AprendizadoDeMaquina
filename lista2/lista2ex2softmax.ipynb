{
 "cells": [
  {
   "cell_type": "code",
   "execution_count": 1,
   "metadata": {},
   "outputs": [],
   "source": [
    "# Importações\n",
    "import pandas as pd\n",
    "import matplotlib as ml\n",
    "import numpy as np\n",
    "import math as mt\n",
    "import pprint\n",
    "import matplotlib.pyplot as plt\n",
    "from sklearn.metrics import log_loss\n",
    "from sklearn.metrics import confusion_matrix\n",
    "pp = pprint.PrettyPrinter(width=1000, compact=True)\n",
    "pd.set_option('display.max_rows',500)\n",
    "pd.set_option('display.max_columns',50)"
   ]
  },
  {
   "cell_type": "code",
   "execution_count": 2,
   "metadata": {},
   "outputs": [],
   "source": [
    "#Leitura dos dados\n",
    "colunas=pd.read_csv(\"C:/Users/Roger/OneDrive/ESPECIAL/IA006/python/har_smartphone/features.txt\",delim_whitespace=True,header=None)\n",
    "colunas=colunas[0].astype(str)+\"-\"+colunas[1]\n",
    "colunas=colunas.values.tolist()\n",
    "x_treino_df=pd.read_csv(\"C:/Users/Roger/OneDrive/ESPECIAL/IA006/python/har_smartphone/X_train.txt\",names=colunas,delim_whitespace=True)\n",
    "x_teste_df=pd.read_csv(\"C:/Users/Roger/OneDrive/ESPECIAL/IA006/python/har_smartphone/X_test.txt\",names=colunas,delim_whitespace=True)\n",
    "y_treino_df=pd.read_csv(\"C:/Users/Roger/OneDrive/ESPECIAL/IA006/python/har_smartphone/y_train.txt\",names=['Label'],delim_whitespace=True)\n",
    "y_teste_df=pd.read_csv(\"C:/Users/Roger/OneDrive/ESPECIAL/IA006/python/har_smartphone/y_test.txt\",names=['Label'],delim_whitespace=True)"
   ]
  },
  {
   "cell_type": "code",
   "execution_count": 19,
   "metadata": {
    "scrolled": true
   },
   "outputs": [
    {
     "name": "stdout",
     "output_type": "stream",
     "text": [
      "[[<matplotlib.axes._subplots.AxesSubplot object at 0x05BA8370>]]\n",
      "[[<matplotlib.axes._subplots.AxesSubplot object at 0x05BCFD10>]]\n"
     ]
    },
    {
     "data": {
      "image/png": "[encoded data removed]",
      "text/plain": [
       "<Figure size 432x288 with 1 Axes>"
      ]
     },
     "metadata": {
      "needs_background": "light"
     },
     "output_type": "display_data"
    },
    {
     "data": {
      "image/png": "[encoded data removed]",
      "text/plain": [
       "<Figure size 432x288 with 1 Axes>"
      ]
     },
     "metadata": {
      "needs_background": "light"
     },
     "output_type": "display_data"
    }
   ],
   "source": [
    "#Apesar de ter nomes duplicados nas colunas os valores são diferentes(não verifiquei para todas as opções, talvez o nome devese ser igual mesmo verifficar documentação)\n",
    "# print(x_treino_df['339-fBodyAcc-bandsEnergy()-1,16'])\n",
    "# print(x_treino_df['325-fBodyAcc-bandsEnergy()-1,16'])\n",
    "print(y_treino_df.hist())\n",
    "print(y_teste_df.hist())"
   ]
  },
  {
   "cell_type": "code",
   "execution_count": 119,
   "metadata": {},
   "outputs": [],
   "source": [
    "#Não há linhas com nan\n",
    "# print(x_treino_df[x_treino_df.isnull().any(axis=1)])\n",
    "# print(y_treino_df[y_treino_df.isnull().any(axis=1)])\n",
    "# print(x_teste_df[x_teste_df.isnull().any(axis=1)])\n",
    "# print(y_teste_df[y_teste_df.isnull().any(axis=1)])"
   ]
  },
  {
   "cell_type": "code",
   "execution_count": 121,
   "metadata": {},
   "outputs": [],
   "source": [
    "# #As classes estão mais ou menos igualmente distribuidas.\n",
    "# y_treino_df.hist()\n",
    "# plt.show()\n",
    "# y_teste_df.hist()\n",
    "# plt.show()"
   ]
  },
  {
   "cell_type": "code",
   "execution_count": 50,
   "metadata": {},
   "outputs": [],
   "source": [
    "#Não funciona muito lento\n",
    "# def getDuplicateColumns(df):\n",
    "#     '''\n",
    "#     Get a list of duplicate columns.\n",
    "#     It will iterate over all the columns in dataframe and find the columns whose contents are duplicate.\n",
    "#     :param df: Dataframe object\n",
    "#     :return: List of columns whose contents are duplicates.\n",
    "#     '''\n",
    "#     duplicateColumnNames = set()\n",
    "#     # Iterate over all the columns in dataframe\n",
    "#     for x in range(df.shape[1]):\n",
    "#         # Select column at xth index.\n",
    "#         col = df.iloc[:, x]\n",
    "#         # Iterate over all the columns in DataFrame from (x+1)th index till end\n",
    "#         for y in range(x + 1, df.shape[1]):\n",
    "#             # Select column at yth index.\n",
    "#             otherCol = df.iloc[:, y]\n",
    "#             # Check if two columns at x 7 y index are equal\n",
    "#             if col.equals(otherCol):\n",
    "#                 duplicateColumnNames.add(df.columns.values[y])\n",
    " \n",
    "#     return list(duplicateColumnNames)"
   ]
  },
  {
   "cell_type": "code",
   "execution_count": 10,
   "metadata": {},
   "outputs": [],
   "source": [
    "#Standarlizando os dados\n",
    "def dataframe_stand(x):\n",
    "  return (x-x.mean(axis=0))/x.std(axis=0)\n",
    "\n",
    "x_treino_df_stand=dataframe_stand(x_treino_df).copy()\n",
    "x_teste_df_stand=dataframe_stand(x_teste_df).copy()\n",
    "\n",
    "#Adicionando a coluna com \"1\"\n",
    "x_treino_df_stand['C']=1\n",
    "x_teste_df_stand['C']=1\n"
   ]
  },
  {
   "cell_type": "code",
   "execution_count": 16,
   "metadata": {
    "scrolled": true
   },
   "outputs": [],
   "source": [
    "#Funções Diversas\n",
    "#calculo da estimativa\n",
    "def yh_func(x,w):\n",
    "#     print(np.exp(np.dot(x,w)).shape)\n",
    "    z=np.sum(np.exp(np.dot(x,w)),axis=1)\n",
    "    yh=np.exp(np.dot(x,w))/z\n",
    "    print(yh.shape)\n",
    "    return yh\n",
    "\n",
    "\n",
    "#calculo do gradiente\n",
    "def grad_func(y,yh,x):\n",
    "    grad=np.dot(np.transpose(y-yh),x)/len(x)\n",
    "    return grad\n",
    "\n",
    "#calculo do treshold\n",
    "def threshold_func(y,t):\n",
    "    z=y.copy()\n",
    "    for k in range(0,len(z)):\n",
    "        if z[k]>t:\n",
    "            z[k]=1\n",
    "        if z[k]<=t:\n",
    "            z[k]=0\n",
    "    return z\n",
    "\n",
    "\n",
    "#Função para o gradiente descendente\n",
    "def logistic_train_func(w_antigo,x,y,max_iteracoes,precisao_parada,passo):\n",
    "#     w é um vetor inicial\n",
    "    custo_lista=[]\n",
    "    yh_antigo=yh_func(x,w_antigo)\n",
    "    custo_antigo=log_loss(y,yh_antigo)\n",
    "    custo_lista.append(custo_antigo)\n",
    "    for i in range(1,max_iteracoes+1):\n",
    "        w_novo=w_antigo-passo*grad_func(y,yh_antigo,x) \n",
    "        yh_novo=yh_func(x,w_novo)\n",
    "        custo_novo=log_loss(y,yh_novo)\n",
    "        custo_lista.append(custo_novo)\n",
    "        if abs(custo_novo-custo_antigo)<precisao_parada:\n",
    "            mensagem=\"Parado por precisão.\"\n",
    "            break;\n",
    "        if i==max_iteracoes:\n",
    "            mensagem=\"Parado por número de Iterações.\"\n",
    "            break;\n",
    "        custo_antigo=custo_novo\n",
    "        yh_antigo=yh_novo\n",
    "        w_antigo=w_novo\n",
    "    return custo_lista,w_novo,custo_novo,abs(custo_antigo-custo_novo),i,mensagem\n"
   ]
  },
  {
   "cell_type": "code",
   "execution_count": 7,
   "metadata": {
    "scrolled": false
   },
   "outputs": [],
   "source": [
    "#retorna vetor 1 ou 0 de varias labels\n",
    "def labelizer_func(y,classe):\n",
    "    y_l=y.copy()\n",
    "    for k in range(0,len(y_l)):\n",
    "        if y_l[k]==classe:\n",
    "            y_l[k]=1\n",
    "        else:\n",
    "            y_l[k]=0\n",
    "    return y_l\n",
    "\n"
   ]
  },
  {
   "cell_type": "code",
   "execution_count": 20,
   "metadata": {},
   "outputs": [
    {
     "name": "stdout",
     "output_type": "stream",
     "text": [
      "(7352, 6)\n",
      "(7352, 6)\n"
     ]
    },
    {
     "ename": "ValueError",
     "evalue": "operands could not be broadcast together with shapes (7352,6) (7352,) ",
     "output_type": "error",
     "traceback": [
      "\u001b[1;31m---------------------------------------------------------------------------\u001b[0m",
      "\u001b[1;31mValueError\u001b[0m                                Traceback (most recent call last)",
      "\u001b[1;32m<ipython-input-20-8dc3394e4053>\u001b[0m in \u001b[0;36m<module>\u001b[1;34m\u001b[0m\n\u001b[0;32m     12\u001b[0m \u001b[0mw_final\u001b[0m\u001b[1;33m=\u001b[0m\u001b[0mnp\u001b[0m\u001b[1;33m.\u001b[0m\u001b[0mempty\u001b[0m\u001b[1;33m(\u001b[0m\u001b[1;33m[\u001b[0m\u001b[1;36m562\u001b[0m\u001b[1;33m,\u001b[0m\u001b[1;36m6\u001b[0m\u001b[1;33m]\u001b[0m\u001b[1;33m)\u001b[0m\u001b[1;33m\u001b[0m\u001b[1;33m\u001b[0m\u001b[0m\n\u001b[0;32m     13\u001b[0m \u001b[1;31m# grafico_custo,w_final,custo_final,precisao,i,mensagem=logistic_train_func(w_inicial[:,classe-1],x_treino_df_stand.values,y_treino_l,max_it,pp,passo)\u001b[0m\u001b[1;33m\u001b[0m\u001b[1;33m\u001b[0m\u001b[1;33m\u001b[0m\u001b[0m\n\u001b[1;32m---> 14\u001b[1;33m \u001b[0mprint\u001b[0m\u001b[1;33m(\u001b[0m\u001b[0myh_func\u001b[0m\u001b[1;33m(\u001b[0m\u001b[0mx_treino_df_stand\u001b[0m\u001b[1;33m.\u001b[0m\u001b[0mvalues\u001b[0m\u001b[1;33m,\u001b[0m\u001b[0mw_inicial\u001b[0m\u001b[1;33m)\u001b[0m\u001b[1;33m)\u001b[0m\u001b[1;33m\u001b[0m\u001b[1;33m\u001b[0m\u001b[0m\n\u001b[0m",
      "\u001b[1;32m<ipython-input-16-3f6bc49f5c9b>\u001b[0m in \u001b[0;36myh_func\u001b[1;34m(x, w)\u001b[0m\n\u001b[0;32m      4\u001b[0m     \u001b[0mprint\u001b[0m\u001b[1;33m(\u001b[0m\u001b[0mnp\u001b[0m\u001b[1;33m.\u001b[0m\u001b[0mexp\u001b[0m\u001b[1;33m(\u001b[0m\u001b[0mnp\u001b[0m\u001b[1;33m.\u001b[0m\u001b[0mdot\u001b[0m\u001b[1;33m(\u001b[0m\u001b[0mx\u001b[0m\u001b[1;33m,\u001b[0m\u001b[0mw\u001b[0m\u001b[1;33m)\u001b[0m\u001b[1;33m)\u001b[0m\u001b[1;33m.\u001b[0m\u001b[0mshape\u001b[0m\u001b[1;33m)\u001b[0m\u001b[1;33m\u001b[0m\u001b[1;33m\u001b[0m\u001b[0m\n\u001b[0;32m      5\u001b[0m     \u001b[0mz\u001b[0m\u001b[1;33m=\u001b[0m\u001b[0mnp\u001b[0m\u001b[1;33m.\u001b[0m\u001b[0msum\u001b[0m\u001b[1;33m(\u001b[0m\u001b[0mnp\u001b[0m\u001b[1;33m.\u001b[0m\u001b[0mexp\u001b[0m\u001b[1;33m(\u001b[0m\u001b[0mnp\u001b[0m\u001b[1;33m.\u001b[0m\u001b[0mdot\u001b[0m\u001b[1;33m(\u001b[0m\u001b[0mx\u001b[0m\u001b[1;33m,\u001b[0m\u001b[0mw\u001b[0m\u001b[1;33m)\u001b[0m\u001b[1;33m)\u001b[0m\u001b[1;33m,\u001b[0m\u001b[0maxis\u001b[0m\u001b[1;33m=\u001b[0m\u001b[1;36m1\u001b[0m\u001b[1;33m)\u001b[0m\u001b[1;33m\u001b[0m\u001b[1;33m\u001b[0m\u001b[0m\n\u001b[1;32m----> 6\u001b[1;33m     \u001b[0myh\u001b[0m\u001b[1;33m=\u001b[0m\u001b[0mnp\u001b[0m\u001b[1;33m.\u001b[0m\u001b[0mexp\u001b[0m\u001b[1;33m(\u001b[0m\u001b[0mnp\u001b[0m\u001b[1;33m.\u001b[0m\u001b[0mdot\u001b[0m\u001b[1;33m(\u001b[0m\u001b[0mx\u001b[0m\u001b[1;33m,\u001b[0m\u001b[0mw\u001b[0m\u001b[1;33m)\u001b[0m\u001b[1;33m)\u001b[0m\u001b[1;33m/\u001b[0m\u001b[0mz\u001b[0m\u001b[1;33m\u001b[0m\u001b[1;33m\u001b[0m\u001b[0m\n\u001b[0m\u001b[0;32m      7\u001b[0m     \u001b[0mprint\u001b[0m\u001b[1;33m(\u001b[0m\u001b[0myh\u001b[0m\u001b[1;33m.\u001b[0m\u001b[0mshape\u001b[0m\u001b[1;33m)\u001b[0m\u001b[1;33m\u001b[0m\u001b[1;33m\u001b[0m\u001b[0m\n\u001b[0;32m      8\u001b[0m     \u001b[1;32mreturn\u001b[0m \u001b[0myh\u001b[0m\u001b[1;33m\u001b[0m\u001b[1;33m\u001b[0m\u001b[0m\n",
      "\u001b[1;31mValueError\u001b[0m: operands could not be broadcast together with shapes (7352,6) (7352,) "
     ]
    }
   ],
   "source": [
    "y_treino_l=np.zeros([len(y_treino_df.values[:,0]),6])\n",
    "print(y_treino_l.shape)\n",
    "for classe in range(1,7):\n",
    "    y_treino_l[:,classe-1]=np.transpose(labelizer_func(y_treino_df.values[:,0],classe))\n",
    "\n",
    "#Agora meu y_treino_l esta labelizado\n",
    "\n",
    "max_it=2500\n",
    "pp=0.000000001\n",
    "passo=0.03\n",
    "w_inicial=np.zeros([562,6])\n",
    "w_final=np.empty([562,6])\n",
    "# grafico_custo,w_final,custo_final,precisao,i,mensagem=logistic_train_func(w_inicial[:,classe-1],x_treino_df_stand.values,y_treino_l,max_it,pp,passo)\n",
    "x=np.array([[1,2],[1,4],[1,5],[1,6]])\n",
    "w=np.array()\n",
    "print(np.exp(np.dot(x,w))/np.sum(np.exp(np.dot(x,w)),axis=1))\n"
   ]
  },
  {
   "cell_type": "code",
   "execution_count": 24,
   "metadata": {},
   "outputs": [
    {
     "data": {
      "image/png": "[encoded data removed]",
      "text/plain": [
       "<Figure size 432x288 with 1 Axes>"
      ]
     },
     "metadata": {
      "needs_background": "light"
     },
     "output_type": "display_data"
    },
    {
     "data": {
      "image/png": "[encoded data removed]",
      "text/plain": [
       "<Figure size 432x288 with 1 Axes>"
      ]
     },
     "metadata": {
      "needs_background": "light"
     },
     "output_type": "display_data"
    },
    {
     "data": {
      "image/png": "[encoded data removed]",
      "text/plain": [
       "<Figure size 432x288 with 1 Axes>"
      ]
     },
     "metadata": {
      "needs_background": "light"
     },
     "output_type": "display_data"
    },
    {
     "data": {
      "image/png": "[encoded data removed]",
      "text/plain": [
       "<Figure size 432x288 with 1 Axes>"
      ]
     },
     "metadata": {
      "needs_background": "light"
     },
     "output_type": "display_data"
    },
    {
     "data": {
      "image/png": "[encoded data removed]",
      "text/plain": [
       "<Figure size 432x288 with 1 Axes>"
      ]
     },
     "metadata": {
      "needs_background": "light"
     },
     "output_type": "display_data"
    },
    {
     "data": {
      "image/png": "[encoded data removed]",
      "text/plain": [
       "<Figure size 432x288 with 1 Axes>"
      ]
     },
     "metadata": {
      "needs_background": "light"
     },
     "output_type": "display_data"
    },
    {
     "data": {
      "image/png": "[encoded data removed]",
      "text/plain": [
       "<Figure size 432x288 with 1 Axes>"
      ]
     },
     "metadata": {
      "needs_background": "light"
     },
     "output_type": "display_data"
    },
    {
     "data": {
      "image/png": "[encoded data removed]",
      "text/plain": [
       "<Figure size 432x288 with 1 Axes>"
      ]
     },
     "metadata": {
      "needs_background": "light"
     },
     "output_type": "display_data"
    },
    {
     "data": {
      "image/png": "[encoded data removed]",
      "text/plain": [
       "<Figure size 432x288 with 1 Axes>"
      ]
     },
     "metadata": {
      "needs_background": "light"
     },
     "output_type": "display_data"
    },
    {
     "data": {
      "image/png": "[encoded data removed]",
      "text/plain": [
       "<Figure size 432x288 with 1 Axes>"
      ]
     },
     "metadata": {
      "needs_background": "light"
     },
     "output_type": "display_data"
    },
    {
     "data": {
      "image/png": "[encoded data removed]",
      "text/plain": [
       "<Figure size 432x288 with 1 Axes>"
      ]
     },
     "metadata": {
      "needs_background": "light"
     },
     "output_type": "display_data"
    },
    {
     "data": {
      "image/png": "[encoded data removed]",
      "text/plain": [
       "<Figure size 432x288 with 1 Axes>"
      ]
     },
     "metadata": {
      "needs_background": "light"
     },
     "output_type": "display_data"
    },
    {
     "name": "stdout",
     "output_type": "stream",
     "text": [
      "Tempo rodada:167.70004725456238 s\n"
     ]
    }
   ],
   "source": [
    "import time\n",
    "max_it=2500\n",
    "pp=0.000000001\n",
    "passo=0.03\n",
    "w_inicial=np.zeros([562,6])\n",
    "w_final=np.empty([562,6])\n",
    "start=time.time()\n",
    "for classe in range(1,7):\n",
    "#     Transforma o vetor de classe em um vetor de 0 e 1\n",
    "    y_treino_l=labelizer_func(y_treino_df.values[:,0],classe)\n",
    "\n",
    "    #Gráfico historgrama após labelizacao\n",
    "    titulo=\"Classe:{}\".format(classe)\n",
    "    pd.DataFrame(y_treino_l,columns=[titulo]).hist()\n",
    "\n",
    "    #treino do modelo\n",
    "    grafico_custo,w_final[:,classe-1],custo_final,precisao,i,mensagem=logistic_train_func(w_inicial[:,classe-1],x_treino_df_stand.values,y_treino_l,max_it,pp,passo)\n",
    "\n",
    "    #grafico do custo\n",
    "    grafico_custo=pd.DataFrame(grafico_custo,columns=['Custo'])\n",
    "    plt.title(titulo)\n",
    "    grafico_custo.plot()\n",
    "#     plt.show()\n",
    "# print(grafico_custo)\n",
    "plt.show()\n",
    "print(\"Tempo rodada:{} s\".format(time.time()-start))"
   ]
  },
  {
   "cell_type": "code",
   "execution_count": 15,
   "metadata": {},
   "outputs": [
    {
     "name": "stdout",
     "output_type": "stream",
     "text": [
      "[[483   6   7   0   0   0]\n",
      " [  6 459   6   0   0   0]\n",
      " [  2   4 414   0   0   0]\n",
      " [  0   1   0 435  55   0]\n",
      " [  0   0   0  29 503   0]\n",
      " [  0   0   0   0   0 537]]\n"
     ]
    }
   ],
   "source": [
    "yh_teste=yh_func(x_teste_df_stand.values,w_final)\n",
    "# print(x_treino_df_stand.shape)\n",
    "# print(w_final.shape)\n",
    "# print(yh_treino.shape)\n",
    "# teste=pd.DataFrame(yh_treino,columns=['Classe1'])\n",
    "# teste['Real']=y_treino_df\n",
    "# teste[teste['Real']==classe]\n",
    "yh_teste_l=np.zeros(yh_teste.shape[0])\n",
    "for i in range(0,yh_teste.shape[0]):\n",
    "    yh_teste_l[i]=np.where(yh_teste[i,:] == np.amax(yh_teste[i,:]))[0]+1\n",
    "# print(yh_teste2)\n",
    "# print(y_teste_df.values[:,0])\n",
    "print(confusion_matrix(y_teste_df.values[:,0], yh_teste_l, labels=[1,2,3,4,5,6]))\n",
    "# confirmacao=pd.DataFrame(yh_teste,columns=[1,2,3,4,5,6])\n",
    "# confirmacao['Estimado']=yh_teste2\n",
    "# confirmacao['Verdadeiro']=y_teste_df['Label']\n",
    "# confirmacao.to_csv(r'C:/Users/Roger/OneDrive/ESPECIAL/IA006/python/har_smartphone/resultados.csv')\n",
    "# print(confirmacao)"
   ]
  },
  {
   "cell_type": "code",
   "execution_count": 25,
   "metadata": {},
   "outputs": [
    {
     "name": "stdout",
     "output_type": "stream",
     "text": [
      "[[483   6   7   0   0   0]\n",
      " [  6 459   6   0   0   0]\n",
      " [  2   4 414   0   0   0]\n",
      " [  0   1   0 435  55   0]\n",
      " [  0   0   0  29 503   0]\n",
      " [  0   0   0   0   0 537]]\n"
     ]
    },
    {
     "data": {
      "image/png": "[encoded data removed]",
      "text/plain": [
       "<Figure size 432x288 with 2 Axes>"
      ]
     },
     "metadata": {
      "needs_background": "light"
     },
     "output_type": "display_data"
    },
    {
     "name": "stdout",
     "output_type": "stream",
     "text": [
      "              precision    recall  f1-score   support\n",
      "\n",
      "           1      0.984     0.974     0.979       496\n",
      "           2      0.977     0.975     0.976       471\n",
      "           3      0.970     0.986     0.978       420\n",
      "           4      0.938     0.886     0.911       491\n",
      "           5      0.901     0.945     0.923       532\n",
      "           6      1.000     1.000     1.000       537\n",
      "\n",
      "    accuracy                          0.961      2947\n",
      "   macro avg      0.961     0.961     0.961      2947\n",
      "weighted avg      0.961     0.961     0.961      2947\n",
      "\n"
     ]
    }
   ],
   "source": [
    "labels = [1,2,3,4,5,6]\n",
    "cm = confusion_matrix(y_teste_df.values[:,0], yh_teste_l, labels)\n",
    "print(cm)\n",
    "fig = plt.figure()\n",
    "ax = fig.add_subplot(111)\n",
    "cax = ax.matshow(cm)\n",
    "plt.title('Confusion matrix of the classifier')\n",
    "fig.colorbar(cax)\n",
    "ax.set_xticklabels([''] + labels)\n",
    "ax.set_yticklabels([''] + labels)\n",
    "plt.xlabel('Predicted')\n",
    "plt.ylabel('True')\n",
    "plt.show()\n",
    "from sklearn.metrics import classification_report\n",
    "print(classification_report(y_teste_df.values[:,0], yh_teste_l,digits=3))"
   ]
  },
  {
   "cell_type": "code",
   "execution_count": 18,
   "metadata": {},
   "outputs": [
    {
     "name": "stdout",
     "output_type": "stream",
     "text": [
      "[[2 0 0]\n",
      " [2 0 0]\n",
      " [2 0 0]]\n"
     ]
    }
   ],
   "source": [
    "print(confusion_matrix([1,1,2,2,3,3],[1,1,1,1,1,1],[1,2,3]))\n",
    "# print(confusion_matrix([1,1,2,2,3,3],[[1,1,1,1,1,1],[1,1,1,1,1,1],[1,1,1,1,1,1]],[1,2,3]))"
   ]
  },
  {
   "cell_type": "code",
   "execution_count": 9,
   "metadata": {},
   "outputs": [
    {
     "ename": "NameError",
     "evalue": "name 'step' is not defined",
     "output_type": "error",
     "traceback": [
      "\u001b[1;31m---------------------------------------------------------------------------\u001b[0m",
      "\u001b[1;31mNameError\u001b[0m                                 Traceback (most recent call last)",
      "\u001b[1;32m<ipython-input-9-90c3ca03a96b>\u001b[0m in \u001b[0;36m<module>\u001b[1;34m\u001b[0m\n\u001b[0;32m      6\u001b[0m     \u001b[1;32mreturn\u001b[0m \u001b[0mx\u001b[0m\u001b[1;33m\u001b[0m\u001b[1;33m\u001b[0m\u001b[0m\n\u001b[0;32m      7\u001b[0m \u001b[1;33m\u001b[0m\u001b[0m\n\u001b[1;32m----> 8\u001b[1;33m \u001b[0mlis_treshold\u001b[0m\u001b[1;33m=\u001b[0m\u001b[0mnp\u001b[0m\u001b[1;33m.\u001b[0m\u001b[0marange\u001b[0m\u001b[1;33m(\u001b[0m\u001b[1;36m0\u001b[0m\u001b[1;33m,\u001b[0m\u001b[1;36m1\u001b[0m\u001b[1;33m+\u001b[0m\u001b[0mstep\u001b[0m\u001b[1;33m,\u001b[0m\u001b[0mstep\u001b[0m\u001b[1;33m)\u001b[0m\u001b[1;33m\u001b[0m\u001b[1;33m\u001b[0m\u001b[0m\n\u001b[0m\u001b[0;32m      9\u001b[0m \u001b[0mf_medida_lista\u001b[0m\u001b[1;33m=\u001b[0m\u001b[1;33m[\u001b[0m\u001b[1;33m]\u001b[0m\u001b[1;33m\u001b[0m\u001b[1;33m\u001b[0m\u001b[0m\n\u001b[0;32m     10\u001b[0m \u001b[1;32mfor\u001b[0m \u001b[0mt\u001b[0m \u001b[1;32min\u001b[0m \u001b[0mlis_treshold\u001b[0m\u001b[1;33m:\u001b[0m\u001b[1;33m\u001b[0m\u001b[1;33m\u001b[0m\u001b[0m\n",
      "\u001b[1;31mNameError\u001b[0m: name 'step' is not defined"
     ]
    }
   ],
   "source": [
    "def division_zero(a, b):\n",
    "    if b:\n",
    "        x=a/b\n",
    "    if b==0:\n",
    "        x=0\n",
    "    return x\n",
    "\n",
    "lis_treshold=np.arange(0,1+step,step)\n",
    "f_medida_lista=[]\n",
    "for t in lis_treshold:\n",
    "    yh_teste_t=threshold_func(yh_teste,t)\n",
    "    tn, fp, fn, tp=confusion_matrix(y_teste, yh_teste_t).ravel()\n",
    "    recall=division_zero(tp,(tp+fn))\n",
    "    precisao=division_zero(tp,fp+tp)\n",
    "    a=recall*precisao\n",
    "    b=recall+precisao\n",
    "    f_medida=division_zero(a,b)\n",
    "    f_medida_lista.append([t, f_medida])\n",
    "\n",
    "#Gráfico 1\n",
    "grafico_f_medida=pd.DataFrame(f_medida_lista,columns=['t','F_medida'])\n",
    "grafico_f_medida.plot(x='t',y='F_medida')\n",
    "plt.show()\n",
    "\n",
    "#Gráfico 2\n",
    "x=np.array(f_medida_lista)\n",
    "x=x[:,0].copy()\n",
    "y=np.array(f_medida_lista)\n",
    "y=y[:,1].copy()\n",
    "plt.plot(x,y,'.--')\n",
    "plt.show()"
   ]
  },
  {
   "cell_type": "code",
   "execution_count": 3,
   "metadata": {},
   "outputs": [
    {
     "name": "stdout",
     "output_type": "stream",
     "text": [
      "1e-15\n",
      "0.9\n",
      "0.1\n",
      "0.7\n",
      "1.240461282481706\n",
      "1.240461282481706\n"
     ]
    },
    {
     "data": {
      "text/plain": [
       "-89.80081862676778"
      ]
     },
     "execution_count": 3,
     "metadata": {},
     "output_type": "execute_result"
    }
   ],
   "source": [
    "\n",
    "\n",
    "import sklearn as sk\n",
    "from sklearn.linear_model import LogisticRegression\n",
    "import pandas as pd\n",
    "\n",
    "LR = LogisticRegression(random_state=0, solver='lbfgs', multi_class='ovr').fit(x_treino, y_treino)\n",
    "yh_treino=LR.predict(x_treino)\n",
    "yh_teste=LR.predict(x_teste)\n",
    "print(\"treino\")\n",
    "print(\"tn, fp, fn, tp\")\n",
    "print(confusion_matrix(y_treino, yh_treino).ravel()/len(y_treino)*100)\n",
    "print(\"teste\")\n",
    "print(\"tn, fp, fn, tp\")\n",
    "print(confusion_matrix(y_teste,yh_teste).ravel()/len(y_teste)*100)\n",
    "\n",
    "\n",
    "def custo_func(y,yh):\n",
    "#     custo=-np.sum(y_treino*np.log(yh_treino)+(1-y_treino)*np.log(1-yh_treino))/len(y)\n",
    "#     return custo\n",
    "    eps=1e-15\n",
    "    custo=-\n",
    "    yh = np.clip(yh, eps, 1 - eps)\n",
    "    for i in range(0,len(y)):\n",
    "        if y[i] == 1:\n",
    "            custo+= -np.log(yh[i])\n",
    "        else:\n",
    "            custo+= -np.log(1 - yh[i])\n",
    "    custo=custo/len(y)\n",
    "    return custo\n",
    "\n",
    "\n",
    "# teste\n",
    "# import numpy as np\n",
    "# from sklearn.model_selection import KFold\n",
    "\n",
    "# X = np.array([\"a\", \"b\", \"c\", \"d\",\"e\",\"f\",\"g\",\"h\"])\n",
    "# kf = KFold(n_splits=5)\n",
    "# for train_index, test_index in kf.split(X):\n",
    "#     print(train_index)\n",
    "#     print(X[train_index])\n",
    "#     print(test_index)\n",
    "#     print(X[test_index])\n",
    "\n",
    "# h=np.array([0,1,2])\n",
    "# print(X[h])\n",
    "\n",
    "#teste\n",
    "# print(log_loss([1,0],[1,1]))\n",
    "# print(1*np.log(1))\n",
    "\n",
    "# algoritmo para logloss\n",
    "def logloss(true_label, predicted, eps=1e-15):\n",
    "  p = np.clip(predicted, eps, 1 - eps)\n",
    "  print(p)\n",
    "  if true_label == 1:\n",
    "    return -np.log(p)\n",
    "  else:\n",
    "    return -np.log(1 - p)\n",
    "\n",
    "#códigos legais\n",
    "# print(x_treino.shape)\n",
    "# print(w.shape[0])\n",
    "# print(w.shape)\n",
    "# print(len(w))\n",
    "\n",
    "\n",
    "\n",
    "y_true = [0, 0, 1, 1]\n",
    "y_pred = [0.0,0.9,0.1,0.7]\n",
    "teste=0\n",
    "for i in range(0,len(y_true)):\n",
    "    teste+=logloss(y_true[i],y_pred[i])\n",
    "\n",
    "teste=teste/len(y_true)\n",
    "print(teste)\n",
    "print(log_loss(y_true,y_pred))\n",
    "np.log(0.000000000000000000000000000000000000001)"
   ]
  },
  {
   "cell_type": "code",
   "execution_count": 68,
   "metadata": {},
   "outputs": [
    {
     "data": {
      "text/plain": [
       "0.1351550360360566"
      ]
     },
     "execution_count": 68,
     "metadata": {},
     "output_type": "execute_result"
    }
   ],
   "source": [
    "# ar1=np.array([1,2,2,3])\n",
    "# ar2=np.array([[1,0,0,0],[0,1,1,0],[0,0,0,1]])\n",
    "# print(log_loss(ar1,ar2))\n",
    "\n",
    "actual_labels = [1,2,3]\n",
    "\n",
    "log_loss(actual_labels,  [[1, 0, 0], [0, 1, 0], [0, 0, 1]])"
   ]
  },
  {
   "cell_type": "code",
   "execution_count": 64,
   "metadata": {},
   "outputs": [
    {
     "name": "stdout",
     "output_type": "stream",
     "text": [
      "[1 2 6]\n",
      "[[1 0 0]\n",
      " [0 0 1]]\n"
     ]
    }
   ],
   "source": [
    "from sklearn import preprocessing\n",
    "lb = preprocessing.LabelBinarizer()\n",
    "lb.fit([1, 2, 6, 6, 2])\n",
    "print(lb.classes_)\n",
    "print(lb.transform([1, 6]))"
   ]
  },
  {
   "cell_type": "code",
   "execution_count": 27,
   "metadata": {},
   "outputs": [
    {
     "name": "stdout",
     "output_type": "stream",
     "text": [
      "[ 6 13]\n"
     ]
    }
   ],
   "source": [
    "arr = np.array([11, 12, 13, 14, 15, 16, 17, 15, 11, 12, 14, 15, 16, 17])\n",
    "result = np.where(arr == np.amax(arr))\n",
    "print(result[0])"
   ]
  },
  {
   "cell_type": "code",
   "execution_count": 54,
   "metadata": {},
   "outputs": [
    {
     "data": {
      "text/plain": [
       "array([[1, 1, 0],\n",
       "       [0, 2, 0],\n",
       "       [0, 0, 1]], dtype=int64)"
      ]
     },
     "execution_count": 54,
     "metadata": {},
     "output_type": "execute_result"
    }
   ],
   "source": [
    "confusion_matrix([1,1,2,2,3,3],[1,2,2,2,5,3], labels=[1,2,3])"
   ]
  }
 ],
 "metadata": {
  "kernelspec": {
   "display_name": "Python 3",
   "language": "python",
   "name": "python3"
  },
  "language_info": {
   "codemirror_mode": {
    "name": "ipython",
    "version": 3
   },
   "file_extension": ".py",
   "mimetype": "text/x-python",
   "name": "python",
   "nbconvert_exporter": "python",
   "pygments_lexer": "ipython3",
   "version": "3.7.4"
  }
 },
 "nbformat": 4,
 "nbformat_minor": 2
}
